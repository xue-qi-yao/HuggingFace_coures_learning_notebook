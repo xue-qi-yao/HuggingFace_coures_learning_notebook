{
 "cells": [
  {
   "cell_type": "markdown",
   "metadata": {},
   "source": [
    "#### There are multiple setups on which you can run your training\n",
    "<div>\n",
    "<img src=\"image/accelerate1.png\" width=800>\n",
    "</div>"
   ]
  },
  {
   "cell_type": "markdown",
   "metadata": {},
   "source": [
    "#### Accelerate has been designed specifically to let you retain full control over the training loop and be as non-instrusive as possible\n",
    "<div><img src=\"image/accelerate2.png\" width=500></div>"
   ]
  },
  {
   "cell_type": "markdown",
   "metadata": {},
   "source": [
    "#### Accelerate also handles distributed evaluation\n",
    "<div><img src=\"image/accelerate3.png\" width=800></div>"
   ]
  },
  {
   "cell_type": "markdown",
   "metadata": {},
   "source": [
    "#### Accelerate also provide utilities to easily launch your training\n",
    "<div><img src=\"image/accelerate4.png\" width=600></div>"
   ]
  },
  {
   "cell_type": "markdown",
   "metadata": {},
   "source": []
  }
 ],
 "metadata": {
  "language_info": {
   "name": "python"
  }
 },
 "nbformat": 4,
 "nbformat_minor": 2
}
