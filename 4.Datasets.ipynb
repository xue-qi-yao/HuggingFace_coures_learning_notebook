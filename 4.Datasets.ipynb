{
 "cells": [
  {
   "cell_type": "markdown",
   "metadata": {},
   "source": [
    "#### The Datasets library allows you to easily download and cache datasets by using ***load_dataset***"
   ]
  },
  {
   "cell_type": "code",
   "execution_count": 2,
   "metadata": {},
   "outputs": [
    {
     "name": "stderr",
     "output_type": "stream",
     "text": [
      "/home/qiyaoxue/miniconda3/envs/python3.10/lib/python3.10/site-packages/tqdm/auto.py:21: TqdmWarning: IProgress not found. Please update jupyter and ipywidgets. See https://ipywidgets.readthedocs.io/en/stable/user_install.html\n",
      "  from .autonotebook import tqdm as notebook_tqdm\n"
     ]
    },
    {
     "name": "stdout",
     "output_type": "stream",
     "text": [
      "DatasetDict({\n",
      "    train: Dataset({\n",
      "        features: ['sentence1', 'sentence2', 'label', 'idx'],\n",
      "        num_rows: 3668\n",
      "    })\n",
      "    validation: Dataset({\n",
      "        features: ['sentence1', 'sentence2', 'label', 'idx'],\n",
      "        num_rows: 408\n",
      "    })\n",
      "    test: Dataset({\n",
      "        features: ['sentence1', 'sentence2', 'label', 'idx'],\n",
      "        num_rows: 1725\n",
      "    })\n",
      "})\n"
     ]
    }
   ],
   "source": [
    "from datasets import load_dataset\n",
    "\n",
    "raw_datasets = load_dataset(\"glue\", \"mrpc\")\n",
    "print(raw_datasets)"
   ]
  },
  {
   "cell_type": "markdown",
   "metadata": {},
   "source": [
    "#### We can access any split of the dataset by its key, then any element by index. We can also get a slice of the dataset"
   ]
  },
  {
   "cell_type": "code",
   "execution_count": 3,
   "metadata": {},
   "outputs": [
    {
     "name": "stdout",
     "output_type": "stream",
     "text": [
      "Dataset({\n",
      "    features: ['sentence1', 'sentence2', 'label', 'idx'],\n",
      "    num_rows: 3668\n",
      "})\n",
      "{'sentence1': 'Revenue in the first quarter of the year dropped 15 percent from the same period a year earlier .', 'sentence2': \"With the scandal hanging over Stewart 's company , revenue the first quarter of the year dropped 15 percent from the same period a year earlier .\", 'label': 1, 'idx': 5}\n",
      "{'sentence1': ['Amrozi accused his brother , whom he called \" the witness \" , of deliberately distorting his evidence .', \"Yucaipa owned Dominick 's before selling the chain to Safeway in 1998 for $ 2.5 billion .\", 'They had published an advertisement on the Internet on June 10 , offering the cargo for sale , he added .', 'Around 0335 GMT , Tab shares were up 19 cents , or 4.4 % , at A $ 4.56 , having earlier set a record high of A $ 4.57 .', 'The stock rose $ 2.11 , or about 11 percent , to close Friday at $ 21.51 on the New York Stock Exchange .'], 'sentence2': ['Referring to him as only \" the witness \" , Amrozi accused his brother of deliberately distorting his evidence .', \"Yucaipa bought Dominick 's in 1995 for $ 693 million and sold it to Safeway for $ 1.8 billion in 1998 .\", \"On June 10 , the ship 's owners had published an advertisement on the Internet , offering the explosives for sale .\", 'Tab shares jumped 20 cents , or 4.6 % , to set a record closing high at A $ 4.57 .', 'PG & E Corp. shares jumped $ 1.63 or 8 percent to $ 21.03 on the New York Stock Exchange on Friday .'], 'label': [1, 0, 1, 0, 1], 'idx': [0, 1, 2, 3, 4]}\n"
     ]
    }
   ],
   "source": [
    "print(raw_datasets[\"train\"])\n",
    "print(raw_datasets[\"train\"][5])\n",
    "print(raw_datasets[\"train\"][:5])"
   ]
  },
  {
   "cell_type": "markdown",
   "metadata": {},
   "source": [
    "#### The ***features*** attribute gives as more information about each column"
   ]
  },
  {
   "cell_type": "code",
   "execution_count": 4,
   "metadata": {},
   "outputs": [
    {
     "data": {
      "text/plain": [
       "{'sentence1': Value(dtype='string', id=None),\n",
       " 'sentence2': Value(dtype='string', id=None),\n",
       " 'label': ClassLabel(names=['not_equivalent', 'equivalent'], id=None),\n",
       " 'idx': Value(dtype='int32', id=None)}"
      ]
     },
     "execution_count": 4,
     "metadata": {},
     "output_type": "execute_result"
    }
   ],
   "source": [
    "raw_datasets[\"train\"].features"
   ]
  },
  {
   "cell_type": "markdown",
   "metadata": {},
   "source": [
    "#### The ***map*** method allows you to apply a function over all the splits of a given dataset, the result will columnly append to the orignial dataset split"
   ]
  },
  {
   "cell_type": "code",
   "execution_count": 5,
   "metadata": {},
   "outputs": [
    {
     "name": "stderr",
     "output_type": "stream",
     "text": [
      "/home/qiyaoxue/miniconda3/envs/python3.10/lib/python3.10/site-packages/transformers/tokenization_utils_base.py:1601: FutureWarning: `clean_up_tokenization_spaces` was not set. It will be set to `True` by default. This behavior will be depracted in transformers v4.45, and will be then set to `False` by default. For more details check this issue: https://github.com/huggingface/transformers/issues/31884\n",
      "  warnings.warn(\n",
      "Map: 100%|██████████| 3668/3668 [00:00<00:00, 5640.86 examples/s]\n",
      "Map: 100%|██████████| 408/408 [00:00<00:00, 5651.54 examples/s]\n",
      "Map: 100%|██████████| 1725/1725 [00:00<00:00, 4525.11 examples/s]"
     ]
    },
    {
     "name": "stdout",
     "output_type": "stream",
     "text": [
      "{'train': ['sentence1', 'sentence2', 'label', 'idx', 'input_ids', 'token_type_ids', 'attention_mask'], 'validation': ['sentence1', 'sentence2', 'label', 'idx', 'input_ids', 'token_type_ids', 'attention_mask'], 'test': ['sentence1', 'sentence2', 'label', 'idx', 'input_ids', 'token_type_ids', 'attention_mask']}\n"
     ]
    },
    {
     "name": "stderr",
     "output_type": "stream",
     "text": [
      "\n"
     ]
    }
   ],
   "source": [
    "from transformers import AutoTokenizer\n",
    "\n",
    "checkpoint = \"bert-base-cased\"\n",
    "tokenizer = AutoTokenizer.from_pretrained(checkpoint)\n",
    "\n",
    "def tokenize_function(example):\n",
    "    return tokenizer(\n",
    "        example[\"sentence1\"], example[\"sentence2\"], padding=\"max_length\", truncation=True, max_length=128\n",
    "    )\n",
    "\n",
    "tokenized_datasets = raw_datasets.map(tokenize_function)\n",
    "print(tokenized_datasets.column_names)"
   ]
  },
  {
   "cell_type": "markdown",
   "metadata": {},
   "source": [
    "#### You can preprocess faster by using the option batched=True, the applied function will then receive multiple examples at each call, the process can be accelerate by processing several elements at the same time"
   ]
  },
  {
   "cell_type": "code",
   "execution_count": 6,
   "metadata": {},
   "outputs": [
    {
     "name": "stderr",
     "output_type": "stream",
     "text": [
      "Map: 100%|██████████| 3668/3668 [00:00<00:00, 12125.89 examples/s]\n",
      "Map: 100%|██████████| 408/408 [00:00<00:00, 12413.59 examples/s]\n",
      "Map: 100%|██████████| 1725/1725 [00:00<00:00, 14246.45 examples/s]"
     ]
    },
    {
     "name": "stdout",
     "output_type": "stream",
     "text": [
      "{'train': ['sentence1', 'sentence2', 'label', 'idx', 'input_ids', 'token_type_ids', 'attention_mask'], 'validation': ['sentence1', 'sentence2', 'label', 'idx', 'input_ids', 'token_type_ids', 'attention_mask'], 'test': ['sentence1', 'sentence2', 'label', 'idx', 'input_ids', 'token_type_ids', 'attention_mask']}\n"
     ]
    },
    {
     "name": "stderr",
     "output_type": "stream",
     "text": [
      "\n"
     ]
    }
   ],
   "source": [
    "from transformers import AutoTokenizer\n",
    "\n",
    "checkpoint = \"bert-base-cased\"\n",
    "tokenizer = AutoTokenizer.from_pretrained(checkpoint)\n",
    "\n",
    "def tokenize_function(examples):\n",
    "    return tokenizer(\n",
    "        examples[\"sentence1\"], examples[\"sentence2\"], padding=\"max_length\", truncation=True, max_length=128\n",
    "    )\n",
    "\n",
    "tokenized_datasets = raw_datasets.map(tokenize_function, batched=True)\n",
    "print(tokenized_datasets.column_names)"
   ]
  },
  {
   "cell_type": "markdown",
   "metadata": {},
   "source": [
    "#### With just a few last tweaks, the dataset is then ready for training"
   ]
  },
  {
   "cell_type": "code",
   "execution_count": 7,
   "metadata": {},
   "outputs": [
    {
     "data": {
      "text/plain": [
       "Dataset({\n",
       "    features: ['labels', 'input_ids', 'token_type_ids', 'attention_mask'],\n",
       "    num_rows: 3668\n",
       "})"
      ]
     },
     "execution_count": 7,
     "metadata": {},
     "output_type": "execute_result"
    }
   ],
   "source": [
    "tokenized_datasets = tokenized_datasets.remove_columns([\"idx\", \"sentence1\", \"sentence2\"])\n",
    "tokenized_datasets = tokenized_datasets.rename_column(\"label\", \"labels\")\n",
    "tokenized_datasets[\"train\"]"
   ]
  },
  {
   "cell_type": "code",
   "execution_count": 8,
   "metadata": {},
   "outputs": [
    {
     "name": "stdout",
     "output_type": "stream",
     "text": [
      "Dataset({\n",
      "    features: ['labels', 'input_ids', 'token_type_ids', 'attention_mask'],\n",
      "    num_rows: 100\n",
      "})\n"
     ]
    }
   ],
   "source": [
    "small_train_dataset = tokenized_datasets[\"train\"].select(range(100))\n",
    "print(small_train_dataset)"
   ]
  },
  {
   "cell_type": "markdown",
   "metadata": {},
   "source": [
    "## 1.Load a custom dataset"
   ]
  },
  {
   "cell_type": "markdown",
   "metadata": {},
   "source": [
    "#### Datasets provides several loading scripts to handle local and remote datasets\n",
    "<div><img src=\"image/dataset1.png\" width=800></div>"
   ]
  },
  {
   "cell_type": "markdown",
   "metadata": {},
   "source": [
    "#### Load a local csv dataset"
   ]
  },
  {
   "cell_type": "code",
   "execution_count": 33,
   "metadata": {},
   "outputs": [],
   "source": [
    "import wget\n",
    "from pathlib import Path\n",
    "if not Path(\"winequality-white.csv\").exists():\n",
    "    wget.download(\"https://archive.ics.uci.edu/ml/machine-learning-databases/wine-quality/winequality-white.csv\")"
   ]
  },
  {
   "cell_type": "code",
   "execution_count": 10,
   "metadata": {},
   "outputs": [
    {
     "name": "stdout",
     "output_type": "stream",
     "text": [
      "DatasetDict({\n",
      "    train: Dataset({\n",
      "        features: ['fixed acidity', 'volatile acidity', 'citric acid', 'residual sugar', 'chlorides', 'free sulfur dioxide', 'total sulfur dioxide', 'density', 'pH', 'sulphates', 'alcohol', 'quality'],\n",
      "        num_rows: 4898\n",
      "    })\n",
      "})\n"
     ]
    },
    {
     "data": {
      "text/plain": [
       "{'fixed acidity': Value(dtype='float64', id=None),\n",
       " 'volatile acidity': Value(dtype='float64', id=None),\n",
       " 'citric acid': Value(dtype='float64', id=None),\n",
       " 'residual sugar': Value(dtype='float64', id=None),\n",
       " 'chlorides': Value(dtype='float64', id=None),\n",
       " 'free sulfur dioxide': Value(dtype='float64', id=None),\n",
       " 'total sulfur dioxide': Value(dtype='float64', id=None),\n",
       " 'density': Value(dtype='float64', id=None),\n",
       " 'pH': Value(dtype='float64', id=None),\n",
       " 'sulphates': Value(dtype='float64', id=None),\n",
       " 'alcohol': Value(dtype='float64', id=None),\n",
       " 'quality': Value(dtype='int64', id=None)}"
      ]
     },
     "execution_count": 10,
     "metadata": {},
     "output_type": "execute_result"
    }
   ],
   "source": [
    "from datasets import load_dataset\n",
    "\n",
    "local_csv_dataset = load_dataset(\"csv\", data_files=\"winequality-white.csv\", sep=\";\")\n",
    "# sep is the arguments to pass to pandas.read_csv()\n",
    "print(local_csv_dataset)\n",
    "local_csv_dataset[\"train\"].features"
   ]
  },
  {
   "cell_type": "markdown",
   "metadata": {},
   "source": [
    "#### Load remote csv dataset"
   ]
  },
  {
   "cell_type": "code",
   "execution_count": 11,
   "metadata": {},
   "outputs": [
    {
     "data": {
      "text/plain": [
       "DatasetDict({\n",
       "    train: Dataset({\n",
       "        features: ['fixed acidity', 'volatile acidity', 'citric acid', 'residual sugar', 'chlorides', 'free sulfur dioxide', 'total sulfur dioxide', 'density', 'pH', 'sulphates', 'alcohol', 'quality'],\n",
       "        num_rows: 4898\n",
       "    })\n",
       "})"
      ]
     },
     "execution_count": 11,
     "metadata": {},
     "output_type": "execute_result"
    }
   ],
   "source": [
    "from datasets import load_dataset\n",
    "\n",
    "dataset_url = \"https://archive.ics.uci.edu/ml/machine-learning-databases/wine-quality/winequality-white.csv\"\n",
    "remote_csv_dataset = load_dataset(\"csv\", data_files=dataset_url, sep=\";\")\n",
    "remote_csv_dataset"
   ]
  },
  {
   "cell_type": "markdown",
   "metadata": {},
   "source": [
    "#### Raw text files are read line by line to build the dataset\n",
    "<div><img src=\"image/dataset2.png\" width=500></div>"
   ]
  },
  {
   "cell_type": "code",
   "execution_count": 12,
   "metadata": {},
   "outputs": [
    {
     "data": {
      "text/plain": [
       "{'text': ['First Citizen:',\n",
       "  'Before we proceed any further, hear me speak.',\n",
       "  '',\n",
       "  'All:',\n",
       "  'Speak, speak.']}"
      ]
     },
     "execution_count": 12,
     "metadata": {},
     "output_type": "execute_result"
    }
   ],
   "source": [
    "from datasets import load_dataset\n",
    "\n",
    "dataset_url = \"https://raw.githubusercontent.com/karpathy/char-rnn/master/data/tinyshakespeare/input.txt\"\n",
    "text_dataset = load_dataset(\"text\", data_files=dataset_url)\n",
    "text_dataset[\"train\"][:5]"
   ]
  },
  {
   "cell_type": "markdown",
   "metadata": {},
   "source": [
    "#### JSON files can be loaded in two main ways - line by line or by sepcifying a ***field*** in nested JSON"
   ]
  },
  {
   "cell_type": "code",
   "execution_count": 13,
   "metadata": {},
   "outputs": [
    {
     "data": {
      "text/plain": [
       "DatasetDict({\n",
       "    train: Dataset({\n",
       "        features: ['QuerySetId', 'Title', 'Description', 'QueryBody', 'CreationDate', 'validated'],\n",
       "        num_rows: 10309\n",
       "    })\n",
       "})"
      ]
     },
     "execution_count": 13,
     "metadata": {},
     "output_type": "execute_result"
    }
   ],
   "source": [
    "dataset_url = \"https://raw.githubusercontent.com/hirupert/sede/main/data/sede/train.jsonl\"\n",
    "json_lines_dataset = load_dataset(\"json\", data_files=dataset_url)\n",
    "json_lines_dataset"
   ]
  },
  {
   "cell_type": "code",
   "execution_count": 14,
   "metadata": {},
   "outputs": [
    {
     "data": {
      "text/plain": [
       "DatasetDict({\n",
       "    train: Dataset({\n",
       "        features: ['title', 'paragraphs'],\n",
       "        num_rows: 442\n",
       "    })\n",
       "})"
      ]
     },
     "execution_count": 14,
     "metadata": {},
     "output_type": "execute_result"
    }
   ],
   "source": [
    "dataset_url = \"https://rajpurkar.github.io/SQuAD-explorer/dataset/train-v2.0.json\"\n",
    "json_dataset = load_dataset(\"json\", data_files=dataset_url, field=\"data\")\n",
    "json_dataset"
   ]
  },
  {
   "cell_type": "markdown",
   "metadata": {},
   "source": [
    "#### You can specify which splits to return with the ***data_files*** argument"
   ]
  },
  {
   "cell_type": "code",
   "execution_count": 15,
   "metadata": {},
   "outputs": [
    {
     "data": {
      "text/plain": [
       "DatasetDict({\n",
       "    train: Dataset({\n",
       "        features: ['title', 'paragraphs'],\n",
       "        num_rows: 442\n",
       "    })\n",
       "    validation: Dataset({\n",
       "        features: ['title', 'paragraphs'],\n",
       "        num_rows: 35\n",
       "    })\n",
       "})"
      ]
     },
     "execution_count": 15,
     "metadata": {},
     "output_type": "execute_result"
    }
   ],
   "source": [
    "url = \"https://rajpurkar.github.io/SQuAD-explorer/dataset/\"\n",
    "data_files = {\"train\": f\"{url}train-v2.0.json\", \"validation\": f\"{url}dev-v2.0.json\"}\n",
    "json_dataset = load_dataset(\"json\", data_files=data_files, field=\"data\")\n",
    "json_dataset"
   ]
  },
  {
   "cell_type": "markdown",
   "metadata": {},
   "source": [
    "## 2.Slice and dice a dataset\n",
    "#### Dataset provides several methods to filter and transform a dataset, all the method are not an inplace operation on the current dataset\n",
    "<div><img src=\"image/dataset3.png\" width=600></div>"
   ]
  },
  {
   "cell_type": "code",
   "execution_count": 16,
   "metadata": {},
   "outputs": [
    {
     "name": "stdout",
     "output_type": "stream",
     "text": [
      "Dataset({\n",
      "    features: ['id', 'title', 'context', 'question', 'answers'],\n",
      "    num_rows: 87599\n",
      "}) \n",
      " {'id': '5733be284776f41900661182', 'title': 'University_of_Notre_Dame', 'context': 'Architecturally, the school has a Catholic character. Atop the Main Building\\'s gold dome is a golden statue of the Virgin Mary. Immediately in front of the Main Building and facing it, is a copper statue of Christ with arms upraised with the legend \"Venite Ad Me Omnes\". Next to the Main Building is the Basilica of the Sacred Heart. Immediately behind the basilica is the Grotto, a Marian place of prayer and reflection. It is a replica of the grotto at Lourdes, France where the Virgin Mary reputedly appeared to Saint Bernadette Soubirous in 1858. At the end of the main drive (and in a direct line that connects through 3 statues and the Gold Dome), is a simple, modern stone statue of Mary.', 'question': 'To whom did the Virgin Mary allegedly appear in 1858 in Lourdes France?', 'answers': {'text': ['Saint Bernadette Soubirous'], 'answer_start': [515]}} \n",
      " {'id': Value(dtype='string', id=None), 'title': Value(dtype='string', id=None), 'context': Value(dtype='string', id=None), 'question': Value(dtype='string', id=None), 'answers': Sequence(feature={'text': Value(dtype='string', id=None), 'answer_start': Value(dtype='int32', id=None)}, length=-1, id=None)}\n"
     ]
    }
   ],
   "source": [
    "from datasets import load_dataset\n",
    "\n",
    "squad = load_dataset(\"squad\", split=\"train\")\n",
    "print(squad, \"\\n\", squad[0], \"\\n\", squad.features)"
   ]
  },
  {
   "cell_type": "markdown",
   "metadata": {},
   "source": [
    "#### You can shuffle the whole dataset with ***dataset.shuffle()***"
   ]
  },
  {
   "cell_type": "code",
   "execution_count": 17,
   "metadata": {},
   "outputs": [
    {
     "name": "stdout",
     "output_type": "stream",
     "text": [
      "{'id': '5727cc873acd2414000deca9', 'title': 'Oklahoma', 'context': 'Oklahoma is the 20th largest state in the United States, covering an area of 69,898 square miles (181,035 km2), with 68,667 square miles (177847 km2) of land and 1,281 square miles (3,188 km2) of water. It is one of six states on the Frontier Strip and lies partly in the Great Plains near the geographical center of the 48 contiguous states. It is bounded on the east by Arkansas and Missouri, on the north by Kansas, on the northwest by Colorado, on the far west by New Mexico, and on the south and near-west by Texas.', 'question': 'Where does Oklahoma rank by land area?', 'answers': {'text': ['20th'], 'answer_start': [16]}}\n"
     ]
    }
   ],
   "source": [
    "squad_shuffled =squad.shuffle(seed=666)\n",
    "print(squad_shuffled[0])"
   ]
  },
  {
   "cell_type": "markdown",
   "metadata": {},
   "source": [
    "#### or create your own shuffled train and test splits with ***Dataset.train_test_split()***"
   ]
  },
  {
   "cell_type": "code",
   "execution_count": 18,
   "metadata": {},
   "outputs": [
    {
     "name": "stdout",
     "output_type": "stream",
     "text": [
      "DatasetDict({\n",
      "    train: Dataset({\n",
      "        features: ['id', 'title', 'context', 'question', 'answers'],\n",
      "        num_rows: 78839\n",
      "    })\n",
      "    test: Dataset({\n",
      "        features: ['id', 'title', 'context', 'question', 'answers'],\n",
      "        num_rows: 8760\n",
      "    })\n",
      "})\n"
     ]
    }
   ],
   "source": [
    "from datasets import load_dataset\n",
    "\n",
    "squad = load_dataset(\"squad\", split=\"train\")\n",
    "dataset = squad.train_test_split(test_size=0.1)\n",
    "print(dataset)"
   ]
  },
  {
   "cell_type": "markdown",
   "metadata": {},
   "source": [
    "#### You can return rows according to a lists of indices using ***Dataset.select()***"
   ]
  },
  {
   "cell_type": "code",
   "execution_count": 19,
   "metadata": {},
   "outputs": [
    {
     "name": "stdout",
     "output_type": "stream",
     "text": [
      "Dataset({\n",
      "    features: ['id', 'title', 'context', 'question', 'answers'],\n",
      "    num_rows: 5\n",
      "})\n"
     ]
    }
   ],
   "source": [
    "from datasets import load_dataset\n",
    "\n",
    "squad = load_dataset(\"squad\", split=\"train\")\n",
    "indices = [0, 10, 20, 40, 80]\n",
    "examples = squad.select(indices=indices)\n",
    "print(examples)"
   ]
  },
  {
   "cell_type": "code",
   "execution_count": 20,
   "metadata": {},
   "outputs": [
    {
     "name": "stdout",
     "output_type": "stream",
     "text": [
      "Dataset({\n",
      "    features: ['id', 'title', 'context', 'question', 'answers'],\n",
      "    num_rows: 5\n",
      "})\n"
     ]
    }
   ],
   "source": [
    "# create a random sample by chaining with Dataset.shuffle()\n",
    "from datasets import load_dataset\n",
    "\n",
    "squad = load_dataset(\"squad\", split=\"train\")\n",
    "sample = squad.shuffle().select(range(5)) \n",
    "print(sample)"
   ]
  },
  {
   "cell_type": "markdown",
   "metadata": {},
   "source": [
    "#### You can use ***Dataset.filter()*** to return rows that match a condition"
   ]
  },
  {
   "cell_type": "code",
   "execution_count": 21,
   "metadata": {},
   "outputs": [
    {
     "name": "stdout",
     "output_type": "stream",
     "text": [
      "Dataset({\n",
      "    features: ['id', 'title', 'context', 'question', 'answers'],\n",
      "    num_rows: 2049\n",
      "}) {'id': '56de0fef4396321400ee2583', 'title': 'Lighting', 'context': 'Lighting or illumination is the deliberate use of light to achieve a practical or aesthetic effect. Lighting includes the use of both artificial light sources like lamps and light fixtures, as well as natural illumination by capturing daylight. Daylighting (using windows, skylights, or light shelves) is sometimes used as the main source of light during daytime in buildings. This can save energy in place of using artificial lighting, which represents a major component of energy consumption in buildings. Proper lighting can enhance task performance, improve the appearance of an area, or have positive psychological effects on occupants.', 'question': 'What is used a main source of light for a building during the day?', 'answers': {'text': ['Daylighting'], 'answer_start': [245]}}\n"
     ]
    }
   ],
   "source": [
    "from datasets import load_dataset\n",
    "\n",
    "squad = load_dataset(\"squad\", split=\"train\")\n",
    "squad_filtered = squad.filter(lambda x : x[\"title\"].startswith(\"L\"))\n",
    "\n",
    "print(squad_filtered, squad_filtered[0])\n"
   ]
  },
  {
   "cell_type": "markdown",
   "metadata": {},
   "source": [
    "#### Use the ***rename_column()*** and ***remove_column()*** methods to transform your columns"
   ]
  },
  {
   "cell_type": "code",
   "execution_count": 22,
   "metadata": {},
   "outputs": [
    {
     "name": "stdout",
     "output_type": "stream",
     "text": [
      "Dataset({\n",
      "    features: ['id', 'title', 'passages', 'question', 'answers'],\n",
      "    num_rows: 87599\n",
      "})\n"
     ]
    }
   ],
   "source": [
    "from datasets import load_dataset\n",
    "\n",
    "squad = load_dataset(\"squad\", split=\"train\")\n",
    "if \"context\" in squad.features:\n",
    "    squad = squad.rename_column(\"context\", \"passages\")\n",
    "print(squad)"
   ]
  },
  {
   "cell_type": "code",
   "execution_count": 23,
   "metadata": {},
   "outputs": [
    {
     "name": "stdout",
     "output_type": "stream",
     "text": [
      "Dataset({\n",
      "    features: ['passages', 'question', 'answers'],\n",
      "    num_rows: 87599\n",
      "})\n"
     ]
    }
   ],
   "source": [
    "if \"title\" in squad.features and \"id\" in squad.features:\n",
    "    squad = squad.remove_columns([\"id\", \"title\"])\n",
    "print(squad)"
   ]
  },
  {
   "cell_type": "markdown",
   "metadata": {},
   "source": [
    "#### If your dataset has neset columns, flatten them with ***Dataset.faltten()***"
   ]
  },
  {
   "cell_type": "code",
   "execution_count": 24,
   "metadata": {},
   "outputs": [
    {
     "name": "stdout",
     "output_type": "stream",
     "text": [
      "Dataset({\n",
      "    features: ['id', 'title', 'context', 'question', 'answers'],\n",
      "    num_rows: 87599\n",
      "}) \n",
      " Sequence(feature={'text': Value(dtype='string', id=None), 'answer_start': Value(dtype='int32', id=None)}, length=-1, id=None)\n",
      "Dataset({\n",
      "    features: ['id', 'title', 'context', 'question', 'answers.text', 'answers.answer_start'],\n",
      "    num_rows: 87599\n",
      "})\n"
     ]
    }
   ],
   "source": [
    "from datasets import load_dataset\n",
    "\n",
    "squad = load_dataset(\"squad\", split=\"train\")\n",
    "print(squad, \"\\n\", squad.features[\"answers\"])\n",
    "squad = squad.flatten()\n",
    "print(squad)"
   ]
  },
  {
   "cell_type": "markdown",
   "metadata": {},
   "source": [
    "#### The ***Dataset.map()*** method applies a processing function to each row, the function input to the ***Dataset.map()*** method need to return a dict\n",
    "#### If the returned dict key is new to the original dataset, a new column will be created, if the returned dict key is one of the orignial dataset key, it will rewrite the original column"
   ]
  },
  {
   "cell_type": "code",
   "execution_count": 25,
   "metadata": {},
   "outputs": [
    {
     "name": "stdout",
     "output_type": "stream",
     "text": [
      "Dataset({\n",
      "    features: ['id', 'title', 'context', 'question', 'answers', 'lower_case'],\n",
      "    num_rows: 87599\n",
      "})\n",
      "['Oklahoma', 'Sumer', 'Insect', 'Tuberculosis', 'Steven_Spielberg']\n"
     ]
    }
   ],
   "source": [
    "from datasets import load_dataset\n",
    "\n",
    "squad = load_dataset(\"squad\", split=\"train\")\n",
    "\n",
    "def lowercase_title(example):\n",
    "    return {\"lower_case\": example[\"title\"].lower()}\n",
    "\n",
    "squad_lower_case = squad.map(lowercase_title)\n",
    "print(squad_lower_case)\n",
    "print(squad_lower_case.shuffle(seed=666)[\"title\"][:5])"
   ]
  },
  {
   "cell_type": "code",
   "execution_count": 26,
   "metadata": {},
   "outputs": [
    {
     "name": "stdout",
     "output_type": "stream",
     "text": [
      "Dataset({\n",
      "    features: ['id', 'title', 'context', 'question', 'answers'],\n",
      "    num_rows: 87599\n",
      "})\n",
      "['oklahoma', 'sumer', 'insect', 'tuberculosis', 'steven_spielberg']\n"
     ]
    }
   ],
   "source": [
    "from datasets import load_dataset\n",
    "\n",
    "squad = load_dataset(\"squad\", split=\"train\")\n",
    "\n",
    "def lowercase_title(example):\n",
    "    return {\"title\": example[\"title\"].lower()}\n",
    "\n",
    "squad_lower_case = squad.map(lowercase_title)\n",
    "print(squad_lower_case)\n",
    "print(squad_lower_case.shuffle(seed=666)[\"title\"][:5])"
   ]
  },
  {
   "cell_type": "markdown",
   "metadata": {},
   "source": [
    "#### The ***Dataset.map()*** method can work with batches, it is especially useful for tokenization, where the tokenizers are backed by the Tokenizers library can use fast multithreading to process batches in parallel"
   ]
  },
  {
   "cell_type": "code",
   "execution_count": 27,
   "metadata": {},
   "outputs": [
    {
     "name": "stdout",
     "output_type": "stream",
     "text": [
      "Dataset({\n",
      "    features: ['id', 'title', 'context', 'question', 'answers', 'input_ids', 'attention_mask'],\n",
      "    num_rows: 87599\n",
      "})\n"
     ]
    }
   ],
   "source": [
    "from transformers import AutoTokenizer\n",
    "\n",
    "tokenizer = AutoTokenizer.from_pretrained(\"distilbert-base-uncased\")\n",
    "\n",
    "def tokenize_title(example):\n",
    "    return tokenizer(example[\"title\"])\n",
    "\n",
    "squad = squad.map(tokenize_title, batched=True, batch_size=500)\n",
    "print(squad)"
   ]
  },
  {
   "cell_type": "markdown",
   "metadata": {},
   "source": [
    "## 3.Datasets + DataFrames"
   ]
  },
  {
   "cell_type": "code",
   "execution_count": 28,
   "metadata": {},
   "outputs": [
    {
     "name": "stdout",
     "output_type": "stream",
     "text": [
      "Dataset({\n",
      "    features: ['id', 'year', 'text', 'label', 'language', 'region', 'canton', 'legal area', 'source_language'],\n",
      "    num_rows: 59709\n",
      "})\n",
      "{'id': [2, 3, 4, 5, 6], 'year': [2000, 2000, 2000, 2000, 2000], 'text': ['A.- Der 1955 geborene V._ war seit 1. September 1986 hauptberuflich als technischer Kaufmann bei der Firma A._ AG tätig und im Rahmen einer Nebenbeschäftigung (Nachtarbeit) ab Mai 1990 bei einem Bewachungsdienst angestellt gewesen, als er am 10. Februar 1991 in Norwegen beim Hundeschlittenfahren eine Muskelruptur im Bereich des linken Oberschenkels erlitt. Die Verletzung wurde am 26. Februar 1991 mittels Muskelnaht operativ versorgt (Bericht des Dr. med. B._, Oberarzt, Chirurgische Klinik X._ vom 28. Februar 1991). Beweglichkeits- und Sensibilitätsausfälle führten zum Beizug des Dr. med. W._, Spezialarzt FMH Neurologie, welcher eine Ischiadicusparese links, wahrscheinlich traumatisch bedingt, diagnostizierte (Bericht vom 5. März 1991). Dr. med. S._, Spezialarzt für Chirurgie FMH, Chefarzt Spital X._ (Bericht vom 28. Oktober 1992) bestätigte, dass es bei der Operation vom 10. Februar 1991 zu einer Druckschädigung des Ischiasnerv gekommen sei. Bei Versorgung mit Schiene und Stützschuh sei V._ indes schmerz- und hinkfrei gehfähig; die Arbeitsfähigkeit sei weder hinsichtlich der Tätigkeit als Kaufmann noch mit Bezug auf die nunmehr aufgegebene Nebenbeschäftigung als Wächter eingeschränkt. Mit unangefochten in Rechtskraft erwachsener Verfügung vom 16. Dezember 1993 lehnte die IV-Stelle des Kantons Zürich das am 2. September 1992 gestellte Rentenbegehren nach Abklärungen in medizinischer und beruflich-erwerblicher Hinsicht wegen eines zu geringen Invaliditätsgrades (von 33,5 %) ab. V._ geht seit der Beendigung des Arbeitsverhältnisses mit der Firma A._ AG am 31. Juli 1993 mit Ausnahme der kurzzeitigen Anstellung (vom 1. bis 28. Dezember 1994) als Disponent bei der Firma I._ AG keiner Erwerbstätigkeit mehr nach. Auf Grund des zuletzt geschlossenen Arbeitsvertrages war er bei der Versicherungsgesellschaft Y._ obligatorisch gegen die Folgen von Berufs- und Nichtberufsunfällen versichert, als ihm am 15. Dezember 1994 eine Projektionsleinwand auf die rechte Schulter fiel. Die dabei erlittene Rotatorenmanschettenverletzung (bei Status nach Operation einer habituellen Schulterluxation im Jahre 1980) bedingte am 3. Oktober 1995 einen chirurgischen Eingriff, welcher gemäss Beurteilung des behandelnden Dr. med. T._, Co-Chefarzt, Spital Z._ (Berichte vom 21. September und 28. Dezember 1995) komplikationslos verlief. Entsprechend der im Bericht vom 28. Dezember 1995 gemachten Erwartung einer vollständigen Rehabilitation sprach sich der behandelnde Chirurg am 2. April 1996 dafür aus, V._ sei mit Blick auf die operierte Schulter hinsichtlich einer körperlich nicht schweren Tätigkeit zu 100 % arbeitsfähig. Nachdem sich V._ am 14. September 1995 wegen des Schulterleidens erneut bei der Invalidenversicherung zum Leistungsbezug angemeldet hatte, teilte ihm die IV-Stelle des Kantons Zürich im Vorbescheid vom 21. August 1996 mit, das Leistungsbegehren werde abgewiesen. Auf Grund der im Vorbescheidverfahren geltend gemachten psychischen Beschwerden holte die IV-Stelle einen Bericht des behandelnden Psychiaters Dr. med. R._, vom 12./13. Oktober 1996 ein und ordnete ein fachärztliches Gutachten des Psychiatrischen Zentrums C._ an, das am 4. August 1997 durch die Dres. med. N._ und O._ erstattet wurde. Gestützt auf die ergänzenden Abklärungen setzte die IV- Stelle den Invaliditätsgrad neu auf 100 % fest und sprach ab 1. Oktober 1996 eine ganze Invalidenrente zu (Verfügung vom 5. Novemer 1997). B.- Die hiegegen erhobene Beschwerde hiess das Sozialversicherungsgericht des Kantons Zürich in dem Sinne gut, als es die angefochtene Verwaltungsverfügung mit der Feststellung aufhob, der Anspruch auf eine ganze Rente bestünde bereits ab 1. Januar 1996 (Entscheid vom 20. Juli 1999). C.- V._ lässt Verwaltungsgerichtsbeschwerde führen und beantragen, es sei ihm bereits ab 1. März 1995 eine Rente zuzusprechen. Während die IV-Stelle auf eine Stellungnahme verzichtet, lässt sich das Bundesamt für Sozialversicherung nicht vernehmen. ', 'Ansprüche nach OHG, hat sich ergeben: A.- X._ wurde am 2. Juli 1994 anlässlich eines Tötungsdelikts im Frauenhaus Luzern durch Schüsse des Täters auf seine dort wohnende Ehefrau verletzt. X._ erlitt Verletzungen am Hals, am Oberschenkel und am Fuss und musste hospitalisiert werden. Der Täter hat sich unmittelbar nach der Tat selbst getötet. B.- Am 21. August 1995 stellte X._ ein Gesuch um Entschädigung und Genugtuung nach dem Bundesgesetz vom 4. Oktober 1991 über die Hilfe an Opfer von Straftaten (OHG; SR 312. 5). Darin machte sie einen Lohnausfall und eine Beeinträchtigung im Haushaltsbereich geltend und verlangte einen Vorschuss gemäss Art. 15 OHG. Am 26. August 1996 bewilligte das Kantonale Sozialamt einen Vorschuss in Höhe von Fr. 8\\'486.--. Es wies darauf hin, dass der Betrag ganz oder teilweise zurückzuerstatten sei, wenn das dem Vorschuss zugrunde liegende Entschädigungsgesuch ganz oder teilweise abgewiesen werde. Mit Verfügung vom 28. Mai 1998 sprach die Winterthur Versicherung als Unfallversicherer X._ rückwirkend während der Heilbehandlung eine Taggeldnachzahlung von Fr. 43\\'215. 80 sowie ab 1. Januar 1998 eine monatliche Invalidenrente von Fr. 787.-- (Invaliditätsgrad 20 %) und eine Integritätsentschädigung von 20 % (Fr. 19\\'440.--) zu. C.- Am 3. April 2000 wies das Kantonale Sozialamt den Entschädigungsanspruch vollumfänglich ab. Die Genug- tuung setzte es unter Berücksichtigung der Verzinsung auf Fr. 29\\'497.-- fest; davon seien die Integritätsentschädi- gung (Fr. 19\\'440.--) und der geleistete Vorschuss (Fr. 8\\'486.--) abzuziehen, so dass noch eine Differenz von Fr. 1\\'571.-- verbleibe. D.- Hiergegen erhob X._ Beschwerde an das Verwaltungsgericht des Kantons Luzern. Sie akzeptierte die Festsetzung der Genugtuung und den Abzug der Integritätsentschädigung, beanstandete aber den Abzug der Vorschussleistung von Fr. 8\\'486.--. Darüber hinaus focht sie die Abweisung ihres Entschädigungsgesuchs an. Das Verwaltungsgericht des Kantons Luzern wies die Beschwerde am 4. August 2000 ab. Das Verwaltungsgericht ging davon aus, der Haushaltschaden sei nach Art. 12 OHG jedenfalls dann nicht abzugelten, wenn das Opfer - wie die Beschwerdeführerin - als Alleinstehende einen Ein-Personen-Haushalt führe und ihr damit die Versorgereigenschaft fehle. Für den Erwerbsausfall komme eine Entschädigung nicht in Betracht, weil dieser Schaden vollumfänglich von der Unfallversicherung durch die Taggeldnachzahlung abgedeckt worden sei. Schliesslich sei auch der Abzug des Vorschusses von der Genugtuungssumme rechtlich nicht zu beanstanden. E.- Gegen das Urteil des Verwaltungsgerichts erhob X._ am 18. September 2000 Verwaltungsgerichtsbeschwerde ans Bundesgericht. Sie beantragt, das angefochtene Urteil sei aufzuheben und ihr sei unter dem Titel \"Genugtuung\" total Fr. 10\\'057.-- (statt lediglich Fr. 1\\'571.--) zu zahlen. Es sei festzustellen, dass der Vorschuss vom Fr. 8\\'486.-- nicht zurückbezahlt bzw. nicht verrechnet werden müsse. Ferner sei ihr für die Beeinträchtigung im Haushaltsbereich eine Entschädigung zuzusprechen. Zur Berechnung dieser Entschädigung sei die Sache an die Vorinstanz zurückzuweisen. F.- Das Kantonale Sozialamt und das Verwaltungsgericht des Kantons Luzern beantragen, die Beschwerde sei abzuweisen (soweit darauf einzutreten sei). Das Bundesamt für Justiz hat auf eine Vernehmlassung verzichtet. ', 'Art. 4 aBV (Strafverfahren wegen falschen Zeugnisses), hat sich ergeben: A.- M._ wird vorgeworfen, am 24. Juli 1996 in angetrunkenem Zustand ein Motorfahrzeug geführt zu haben. Die betreffende Fahrt begann auf dem Parkplatz des Restaurants \"Pflug\" in Othmarsingen, wo sich M._ mit G._ getroffen hatte, und endete in Villmergen, wo er sie wieder traf. G._ ist dieselbe Strecke in ihrem eigenen Auto gefahren. M._ wurde noch am selben Abend im Zusammenhang mit dem Vorwurf verhaftet, anschliessend an diese Fahrt bei einer Schlägerei ein Körperverletzungsdelikt begangen zu haben. Während der darauf folgenden Untersuchungshaft sagte er aus, ein Dritter habe seinen Wagen auf der fraglichen Fahrt gesteuert, weigerte sich jedoch, dessen Namen zu nennen. Nachdem M._ aus der Untersuchungshaft entlassen worden war, richtete der selbständige Taxifahrer O._ am 2. August 1996 ein Schreiben an das Strassenverkehrsamt, wonach er M._ auf der betreffenden Fahrt in dessen Wagen chauffiert habe. Dies bestätigte er am 10. Februar 1997 in einer Zeugeneinvernahme vor dem Bezirksamt Bremgarten. Daraufhin wurde gegen ihn eine Strafuntersuchung wegen falschen Zeugnisses eröffnet. O._ wurde vom Bezirksgericht Bremgarten am 2. April 1998 wegen falschen Zeugnisses zu einer bedingt vollziehbaren Gefängnisstrafe von 21 Tagen verurteilt. Eine hiergegen erhobene Berufung wies die 2. Strafkammer des Obergerichts des Kantons Aargau am 17. Mai 1999 ab. B.- O._ beantragt mit staatsrechtlicher Beschwerde vom 16. September 1999 die Aufhebung des obergerichtlichen Urteils und die Anordnung von zwei Beweiserhebungen. Er ruft Art. 4 aBV an und rügt, sein Anspruch auf rechtliches Gehör sowie der Grundsatz \"in dubio pro reo\" seien verletzt worden. Die Staatsanwaltschaft und das Obergericht des Kantons Aargau verzichten auf eine Vernehmlassung. C.- Mit Beschluss vom 5. Oktober 1999 hat die I. öffentlichrechtliche Abteilung des Bundesgerichts einem Gesuch von O._ um Wiederherstellung der Beschwerdefrist entsprochen. Die staatsrechtliche Beschwerde sowie das Gesuch um unentgeltliche Prozessführung wurden als rechtzeitig erfolgt entgegengenommen. ', \"Art. 5 Ziff. 1 EMRK (Haftentlassung), hat sich ergeben: A.- Die Bezirksanwaltschaft Bülach führt gegen S._ eine Strafuntersuchung, insbesondere wegen gewerbsmässiger Widerhandlung gegen das Betäubungsmittelgesetz und Geldwäscherei. Sie wirft ihm im Wesentlichen vor, zwischen April 1998 und anfangs 1999 dreimal in Guyana je 1,5 - 2 kg Kokain von sehr guter Qualität gekauft, in die Schweiz gebracht und anschliessend teilweise verkauft zu haben. Nach seiner vierten Einkaufstour in Guyana wurde S._ am 14. Januar 2000 bei seiner Einreise im Flughafen Kloten verhaftet, wobei 1,793 kg Kokain sichergestellt wurden. Insgesamt soll er durch den Verkauf von mindestens 3,6 kg Kokain einen Reingewinn von Fr. 115'000.-- erzielt haben. In ihrer Anklageschrift vom 31. Juli 2000 beantragt die Bezirksanwaltschaft, S._ mit 6 Jahren Zuchthaus zu bestrafen, unter Anordnung einer vollzugsbegleitenden ambulanten Massnahme im Sinne von Art. 44 Ziff. 1 Satz 2 und Ziff. 6 StGB. Am 15. August 2000 stellte S._ ein Gesuch um Entlassung aus dem vorzeitigen Strafvollzug. Er anerkannte zwar den Tatverdacht, macht aber geltend, dass keiner der besonderen Haftgründe mehr gegeben sei. Mit Verfügung vom 16. August 2000 beantragte die Bezirksanwaltschaft Bülach dem Haftrichter, die Untersuchungshaft aufrechtzuerhalten, da nach wie vor Fluchtgefahr bestehe, weil S._ eine langjährige Freiheitsstrafe drohe und er auch über einen Pass von Guyana, dem Heimatland seiner Ehefrau, verfüge. B.- Mit Entscheid vom 18. August 2000 wies der Haftrichter des Bezirksgerichts Bülach das Haftentlassungsgesuch ab. Er erwog, der Tatverdacht sei ohne weiteres gegeben und es bestehe Fluchtgefahr, insbesondere auch, weil S._ mit seiner Frau aus dem Drogenerlös in Guyana ein 4'000 m2 grosses Stück Landwirtschaftsland (Reisland) gekauft habe, sodass er versucht sein könnte, sich der drohenden mehrjährigen Strafe durch eine Flucht nach Guyana zu entziehen. Er habe bereits früher einmal Auswanderungspläne gehabt. Sein Gesundheitszustand sei kein Hinderungsgrund, da davon auszugehen sei, dass seine medizinische Betreuung auch in Guyana gewährleistet sei. Mit staatsrechtlicher Beschwerde vom 28. August 2000 wegen Verletzung von Art. 9, Art. 29 Abs. 2 und Art. 31 Abs. 1 BV sowie von Art. 5 Ziff. 1 EMRK beantragt S._, den Entscheid des Haftrichters vom 18. August 2000 aufzuheben und ihn aus der Haft zu entlassen. Ausserdem ersucht er um unentgeltliche Rechtspflege und Verbeiständung. C.- Bezirksanwaltschaft und Bezirksgericht Bülach verzichten auf Vernehmlassung. \", \"Mietvertrag, hat sich ergeben: A.- Die CT Condor Treuhand AG vermietete vom 1. April 1987 bis 31. Dezember 1993 Büroräume an der Hinterbergstrasse 26 in Cham an Andreas Rohrer. Mit Vertrag vom 4. November 1993 schloss sie mit Andreas Rohrer und Thomas Ulrich einen neuen Mietvertrag auf unbestimmte Zeit über Büroräumlichkeiten an der selben Adresse. Mietbeginn war der 1. Januar 1994; der Mietzins betrug Fr. 3'060.-- monatlich inklusive Nebenkosten. Am 17. Januar 1995 ersetzten die Parteien diesen Vertrag per 1. Februar 1995 durch einen neuen Mietvertrag, worin u.a. der monatliche Mietzins neu auf Fr. 2'800.-- zuzüglich Mehrwertsteuer festgesetzt wurde. Dieses Mietverhältnis wurde per 31. Juli 1997 aufgelöst. B.- Mit Klage vom 25. März 1998 beantragte die CT Condor Treuhand AG dem Kantonsgericht des Kantons Zug, Andreas Rohrer und Thomas Ulrich solidarisch zur Bezahlung von Mietzinsen im Betrag von Fr. 86'538.-- zuzüglich Verzugszinsen zu verurteilen. Das Kantonsgericht hiess die Klage mit Urteil vom 30. März 1999 im Umfang von Fr. 13'688. 55 nebst Zins zu 5 % seit 21. März 1998 gut. Beide Parteien reichten gegen dieses Urteil Berufung an das Obergericht ein; dieses wies die Berufung der Klägerin ab, hiess diejenige der Beklagten gut und wies die Klage vollumfänglich ab. C.- Gegen das Urteil des Obergerichts hat die Klägerin sowohl Berufung als auch staatsrechtliche Beschwerde eingereicht. Das Bundesgericht hat die Beschwerde mit Urteil vom heutigen Tag abgewiesen, soweit es darauf eintrat. Mit ihrer Berufung beantragt die Klägerin die Aufhebung des angefochtenen Urteils und die Gutheissung der Klage. Die Beklagten schliessen auf Abweisung der Berufung. \"], 'label': [0, 1, 0, 1, 0], 'language': ['de', 'de', 'de', 'de', 'de'], 'region': ['Zürich', 'Central Switzerland', 'Northwestern Switzerland', 'n/a', 'n/a'], 'canton': ['zh', 'lu', 'ag', 'n/a', 'n/a'], 'legal area': ['insurance law', 'public law', 'public law', 'public law', 'civil law'], 'source_language': ['n/a', 'n/a', 'n/a', 'n/a', 'n/a']}\n"
     ]
    }
   ],
   "source": [
    "from datasets import load_dataset\n",
    "\n",
    "dataset = load_dataset(\"swiss_judgment_prediction\", \"all\", split=\"train\", trust_remote_code=True)\n",
    "print(dataset)\n",
    "print(dataset[:5])"
   ]
  },
  {
   "cell_type": "markdown",
   "metadata": {},
   "source": [
    "#### The ***Dataset.with_format()*** or ***Dataset.set_format()*** can change the dataset format, ***Dataset.with_format()*** is not inplace and ***Dataset.set_format()*** is inplace "
   ]
  },
  {
   "cell_type": "code",
   "execution_count": 59,
   "metadata": {},
   "outputs": [
    {
     "name": "stdout",
     "output_type": "stream",
     "text": [
      "   id  year                                               text  label  \\\n",
      "0   2  2000  A.- Der 1955 geborene V._ war seit 1. Septembe...      0   \n",
      "1   3  2000  Ansprüche nach OHG, hat sich ergeben: A.- X._ ...      1   \n",
      "2   4  2000  Art. 4 aBV (Strafverfahren wegen falschen Zeug...      0   \n",
      "3   5  2000  Art. 5 Ziff. 1 EMRK (Haftentlassung), hat sich...      1   \n",
      "4   6  2000  Mietvertrag, hat sich ergeben: A.- Die CT Cond...      0   \n",
      "\n",
      "  language                    region canton     legal area source_language  \n",
      "0       de                    Zürich     zh  insurance law             n/a  \n",
      "1       de       Central Switzerland     lu     public law             n/a  \n",
      "2       de  Northwestern Switzerland     ag     public law             n/a  \n",
      "3       de                       n/a    n/a     public law             n/a  \n",
      "4       de                       n/a    n/a      civil law             n/a   \n",
      " <class 'datasets.arrow_dataset.Dataset'> <class 'pandas.core.frame.DataFrame'>\n"
     ]
    }
   ],
   "source": [
    "dataset.set_format(\"pandas\")\n",
    "print(dataset[:5], \"\\n\", type(dataset), type(dataset[:]))"
   ]
  },
  {
   "cell_type": "code",
   "execution_count": 42,
   "metadata": {},
   "outputs": [
    {
     "name": "stdout",
     "output_type": "stream",
     "text": [
      "<class 'pandas.core.frame.DataFrame'>\n"
     ]
    },
    {
     "data": {
      "text/html": [
       "<div>\n",
       "<style scoped>\n",
       "    .dataframe tbody tr th:only-of-type {\n",
       "        vertical-align: middle;\n",
       "    }\n",
       "\n",
       "    .dataframe tbody tr th {\n",
       "        vertical-align: top;\n",
       "    }\n",
       "\n",
       "    .dataframe thead th {\n",
       "        text-align: right;\n",
       "    }\n",
       "</style>\n",
       "<table border=\"1\" class=\"dataframe\">\n",
       "  <thead>\n",
       "    <tr style=\"text-align: right;\">\n",
       "      <th></th>\n",
       "      <th>id</th>\n",
       "      <th>year</th>\n",
       "      <th>text</th>\n",
       "      <th>label</th>\n",
       "      <th>language</th>\n",
       "      <th>region</th>\n",
       "      <th>canton</th>\n",
       "      <th>legal area</th>\n",
       "      <th>source_language</th>\n",
       "    </tr>\n",
       "  </thead>\n",
       "  <tbody>\n",
       "    <tr>\n",
       "      <th>0</th>\n",
       "      <td>2</td>\n",
       "      <td>2000</td>\n",
       "      <td>A.- Der 1955 geborene V._ war seit 1. Septembe...</td>\n",
       "      <td>0</td>\n",
       "      <td>de</td>\n",
       "      <td>Zürich</td>\n",
       "      <td>zh</td>\n",
       "      <td>insurance law</td>\n",
       "      <td>n/a</td>\n",
       "    </tr>\n",
       "    <tr>\n",
       "      <th>1</th>\n",
       "      <td>3</td>\n",
       "      <td>2000</td>\n",
       "      <td>Ansprüche nach OHG, hat sich ergeben: A.- X._ ...</td>\n",
       "      <td>1</td>\n",
       "      <td>de</td>\n",
       "      <td>Central Switzerland</td>\n",
       "      <td>lu</td>\n",
       "      <td>public law</td>\n",
       "      <td>n/a</td>\n",
       "    </tr>\n",
       "    <tr>\n",
       "      <th>2</th>\n",
       "      <td>4</td>\n",
       "      <td>2000</td>\n",
       "      <td>Art. 4 aBV (Strafverfahren wegen falschen Zeug...</td>\n",
       "      <td>0</td>\n",
       "      <td>de</td>\n",
       "      <td>Northwestern Switzerland</td>\n",
       "      <td>ag</td>\n",
       "      <td>public law</td>\n",
       "      <td>n/a</td>\n",
       "    </tr>\n",
       "    <tr>\n",
       "      <th>3</th>\n",
       "      <td>5</td>\n",
       "      <td>2000</td>\n",
       "      <td>Art. 5 Ziff. 1 EMRK (Haftentlassung), hat sich...</td>\n",
       "      <td>1</td>\n",
       "      <td>de</td>\n",
       "      <td>n/a</td>\n",
       "      <td>n/a</td>\n",
       "      <td>public law</td>\n",
       "      <td>n/a</td>\n",
       "    </tr>\n",
       "    <tr>\n",
       "      <th>4</th>\n",
       "      <td>6</td>\n",
       "      <td>2000</td>\n",
       "      <td>Mietvertrag, hat sich ergeben: A.- Die CT Cond...</td>\n",
       "      <td>0</td>\n",
       "      <td>de</td>\n",
       "      <td>n/a</td>\n",
       "      <td>n/a</td>\n",
       "      <td>civil law</td>\n",
       "      <td>n/a</td>\n",
       "    </tr>\n",
       "  </tbody>\n",
       "</table>\n",
       "</div>"
      ],
      "text/plain": [
       "   id  year                                               text  label  \\\n",
       "0   2  2000  A.- Der 1955 geborene V._ war seit 1. Septembe...      0   \n",
       "1   3  2000  Ansprüche nach OHG, hat sich ergeben: A.- X._ ...      1   \n",
       "2   4  2000  Art. 4 aBV (Strafverfahren wegen falschen Zeug...      0   \n",
       "3   5  2000  Art. 5 Ziff. 1 EMRK (Haftentlassung), hat sich...      1   \n",
       "4   6  2000  Mietvertrag, hat sich ergeben: A.- Die CT Cond...      0   \n",
       "\n",
       "  language                    region canton     legal area source_language  \n",
       "0       de                    Zürich     zh  insurance law             n/a  \n",
       "1       de       Central Switzerland     lu     public law             n/a  \n",
       "2       de  Northwestern Switzerland     ag     public law             n/a  \n",
       "3       de                       n/a    n/a     public law             n/a  \n",
       "4       de                       n/a    n/a      civil law             n/a  "
      ]
     },
     "execution_count": 42,
     "metadata": {},
     "output_type": "execute_result"
    }
   ],
   "source": [
    "df = dataset[:]\n",
    "print(type(df))\n",
    "df.head()"
   ]
  },
  {
   "cell_type": "markdown",
   "metadata": {},
   "source": [
    "#### Under the hood, ***Dataset.set_format()*** change the ***__getitem__()*** method, originally return a dict, change to return a DataFrame\n",
    "<div><img src=\"image/dataset4.png\" width=800></div>"
   ]
  },
  {
   "cell_type": "markdown",
   "metadata": {},
   "source": [
    "#### Another way to create a DataFrame is with the ***Dataset.to_pandas()*** method"
   ]
  },
  {
   "cell_type": "code",
   "execution_count": 61,
   "metadata": {},
   "outputs": [
    {
     "data": {
      "text/html": [
       "<div>\n",
       "<style scoped>\n",
       "    .dataframe tbody tr th:only-of-type {\n",
       "        vertical-align: middle;\n",
       "    }\n",
       "\n",
       "    .dataframe tbody tr th {\n",
       "        vertical-align: top;\n",
       "    }\n",
       "\n",
       "    .dataframe thead th {\n",
       "        text-align: right;\n",
       "    }\n",
       "</style>\n",
       "<table border=\"1\" class=\"dataframe\">\n",
       "  <thead>\n",
       "    <tr style=\"text-align: right;\">\n",
       "      <th></th>\n",
       "      <th>id</th>\n",
       "      <th>year</th>\n",
       "      <th>text</th>\n",
       "      <th>label</th>\n",
       "      <th>language</th>\n",
       "      <th>region</th>\n",
       "      <th>canton</th>\n",
       "      <th>legal area</th>\n",
       "      <th>source_language</th>\n",
       "    </tr>\n",
       "  </thead>\n",
       "  <tbody>\n",
       "    <tr>\n",
       "      <th>0</th>\n",
       "      <td>2</td>\n",
       "      <td>2000</td>\n",
       "      <td>A.- Der 1955 geborene V._ war seit 1. Septembe...</td>\n",
       "      <td>0</td>\n",
       "      <td>de</td>\n",
       "      <td>Zürich</td>\n",
       "      <td>zh</td>\n",
       "      <td>insurance law</td>\n",
       "      <td>n/a</td>\n",
       "    </tr>\n",
       "    <tr>\n",
       "      <th>1</th>\n",
       "      <td>3</td>\n",
       "      <td>2000</td>\n",
       "      <td>Ansprüche nach OHG, hat sich ergeben: A.- X._ ...</td>\n",
       "      <td>1</td>\n",
       "      <td>de</td>\n",
       "      <td>Central Switzerland</td>\n",
       "      <td>lu</td>\n",
       "      <td>public law</td>\n",
       "      <td>n/a</td>\n",
       "    </tr>\n",
       "    <tr>\n",
       "      <th>2</th>\n",
       "      <td>4</td>\n",
       "      <td>2000</td>\n",
       "      <td>Art. 4 aBV (Strafverfahren wegen falschen Zeug...</td>\n",
       "      <td>0</td>\n",
       "      <td>de</td>\n",
       "      <td>Northwestern Switzerland</td>\n",
       "      <td>ag</td>\n",
       "      <td>public law</td>\n",
       "      <td>n/a</td>\n",
       "    </tr>\n",
       "    <tr>\n",
       "      <th>3</th>\n",
       "      <td>5</td>\n",
       "      <td>2000</td>\n",
       "      <td>Art. 5 Ziff. 1 EMRK (Haftentlassung), hat sich...</td>\n",
       "      <td>1</td>\n",
       "      <td>de</td>\n",
       "      <td>n/a</td>\n",
       "      <td>n/a</td>\n",
       "      <td>public law</td>\n",
       "      <td>n/a</td>\n",
       "    </tr>\n",
       "    <tr>\n",
       "      <th>4</th>\n",
       "      <td>6</td>\n",
       "      <td>2000</td>\n",
       "      <td>Mietvertrag, hat sich ergeben: A.- Die CT Cond...</td>\n",
       "      <td>0</td>\n",
       "      <td>de</td>\n",
       "      <td>n/a</td>\n",
       "      <td>n/a</td>\n",
       "      <td>civil law</td>\n",
       "      <td>n/a</td>\n",
       "    </tr>\n",
       "  </tbody>\n",
       "</table>\n",
       "</div>"
      ],
      "text/plain": [
       "   id  year                                               text  label  \\\n",
       "0   2  2000  A.- Der 1955 geborene V._ war seit 1. Septembe...      0   \n",
       "1   3  2000  Ansprüche nach OHG, hat sich ergeben: A.- X._ ...      1   \n",
       "2   4  2000  Art. 4 aBV (Strafverfahren wegen falschen Zeug...      0   \n",
       "3   5  2000  Art. 5 Ziff. 1 EMRK (Haftentlassung), hat sich...      1   \n",
       "4   6  2000  Mietvertrag, hat sich ergeben: A.- Die CT Cond...      0   \n",
       "\n",
       "  language                    region canton     legal area source_language  \n",
       "0       de                    Zürich     zh  insurance law             n/a  \n",
       "1       de       Central Switzerland     lu     public law             n/a  \n",
       "2       de  Northwestern Switzerland     ag     public law             n/a  \n",
       "3       de                       n/a    n/a     public law             n/a  \n",
       "4       de                       n/a    n/a      civil law             n/a  "
      ]
     },
     "execution_count": 61,
     "metadata": {},
     "output_type": "execute_result"
    }
   ],
   "source": [
    "from datasets import load_dataset\n",
    "\n",
    "dataset = load_dataset(\"swiss_judgment_prediction\", \"all\", split=\"train\", trust_remote_code=True)\n",
    "df = dataset.to_pandas()\n",
    "df.head()"
   ]
  },
  {
   "cell_type": "code",
   "execution_count": 62,
   "metadata": {},
   "outputs": [
    {
     "data": {
      "text/plain": [
       "region                    language\n",
       "Central Switzerland       de           4778\n",
       "                          it              1\n",
       "Eastern Switzerland       de           5650\n",
       "                          it             57\n",
       "Espace Mittelland         de           5150\n",
       "                          fr           3104\n",
       "                          it              3\n",
       "Federation                de           1011\n",
       "                          fr            227\n",
       "                          it             70\n",
       "Northwestern Switzerland  de           5654\n",
       "                          fr              1\n",
       "Région lémanique          fr          13100\n",
       "                          de            336\n",
       "Ticino                    it           2249\n",
       "                          de              6\n",
       "Zürich                    de           8785\n",
       "                          fr              3\n",
       "n/a                       fr           4744\n",
       "                          de           4088\n",
       "                          it            692\n",
       "Name: count, dtype: int64"
      ]
     },
     "execution_count": 62,
     "metadata": {},
     "output_type": "execute_result"
    }
   ],
   "source": [
    "# How are languages distributed across regions?\n",
    "df.groupby(\"region\")[\"language\"].value_counts()"
   ]
  },
  {
   "cell_type": "code",
   "execution_count": 63,
   "metadata": {},
   "outputs": [
    {
     "data": {
      "text/plain": [
       "legal area\n",
       "public law       15173\n",
       "penal law        11795\n",
       "civil law        11477\n",
       "insurance law    11142\n",
       "social law        9727\n",
       "other              395\n",
       "Name: count, dtype: int64"
      ]
     },
     "execution_count": 63,
     "metadata": {},
     "output_type": "execute_result"
    }
   ],
   "source": [
    "# which legal area is most common?\n",
    "df[\"legal area\"].value_counts()"
   ]
  },
  {
   "cell_type": "markdown",
   "metadata": {},
   "source": [
    "#### Remember to rest the format when you are finished by using the ***datset.reset_format()*** method to reset back to arrow format"
   ]
  },
  {
   "cell_type": "code",
   "execution_count": 64,
   "metadata": {},
   "outputs": [
    {
     "name": "stdout",
     "output_type": "stream",
     "text": [
      "   id  year                                               text  label  \\\n",
      "0   2  2000  A.- Der 1955 geborene V._ war seit 1. Septembe...      0   \n",
      "1   3  2000  Ansprüche nach OHG, hat sich ergeben: A.- X._ ...      1   \n",
      "2   4  2000  Art. 4 aBV (Strafverfahren wegen falschen Zeug...      0   \n",
      "3   5  2000  Art. 5 Ziff. 1 EMRK (Haftentlassung), hat sich...      1   \n",
      "4   6  2000  Mietvertrag, hat sich ergeben: A.- Die CT Cond...      0   \n",
      "\n",
      "  language                    region canton     legal area source_language  \n",
      "0       de                    Zürich     zh  insurance law             n/a  \n",
      "1       de       Central Switzerland     lu     public law             n/a  \n",
      "2       de  Northwestern Switzerland     ag     public law             n/a  \n",
      "3       de                       n/a    n/a     public law             n/a  \n",
      "4       de                       n/a    n/a      civil law             n/a   \n",
      " <class 'pandas.core.frame.DataFrame'>\n",
      "{'id': [2, 3, 4, 5, 6], 'year': [2000, 2000, 2000, 2000, 2000], 'text': ['A.- Der 1955 geborene V._ war seit 1. September 1986 hauptberuflich als technischer Kaufmann bei der Firma A._ AG tätig und im Rahmen einer Nebenbeschäftigung (Nachtarbeit) ab Mai 1990 bei einem Bewachungsdienst angestellt gewesen, als er am 10. Februar 1991 in Norwegen beim Hundeschlittenfahren eine Muskelruptur im Bereich des linken Oberschenkels erlitt. Die Verletzung wurde am 26. Februar 1991 mittels Muskelnaht operativ versorgt (Bericht des Dr. med. B._, Oberarzt, Chirurgische Klinik X._ vom 28. Februar 1991). Beweglichkeits- und Sensibilitätsausfälle führten zum Beizug des Dr. med. W._, Spezialarzt FMH Neurologie, welcher eine Ischiadicusparese links, wahrscheinlich traumatisch bedingt, diagnostizierte (Bericht vom 5. März 1991). Dr. med. S._, Spezialarzt für Chirurgie FMH, Chefarzt Spital X._ (Bericht vom 28. Oktober 1992) bestätigte, dass es bei der Operation vom 10. Februar 1991 zu einer Druckschädigung des Ischiasnerv gekommen sei. Bei Versorgung mit Schiene und Stützschuh sei V._ indes schmerz- und hinkfrei gehfähig; die Arbeitsfähigkeit sei weder hinsichtlich der Tätigkeit als Kaufmann noch mit Bezug auf die nunmehr aufgegebene Nebenbeschäftigung als Wächter eingeschränkt. Mit unangefochten in Rechtskraft erwachsener Verfügung vom 16. Dezember 1993 lehnte die IV-Stelle des Kantons Zürich das am 2. September 1992 gestellte Rentenbegehren nach Abklärungen in medizinischer und beruflich-erwerblicher Hinsicht wegen eines zu geringen Invaliditätsgrades (von 33,5 %) ab. V._ geht seit der Beendigung des Arbeitsverhältnisses mit der Firma A._ AG am 31. Juli 1993 mit Ausnahme der kurzzeitigen Anstellung (vom 1. bis 28. Dezember 1994) als Disponent bei der Firma I._ AG keiner Erwerbstätigkeit mehr nach. Auf Grund des zuletzt geschlossenen Arbeitsvertrages war er bei der Versicherungsgesellschaft Y._ obligatorisch gegen die Folgen von Berufs- und Nichtberufsunfällen versichert, als ihm am 15. Dezember 1994 eine Projektionsleinwand auf die rechte Schulter fiel. Die dabei erlittene Rotatorenmanschettenverletzung (bei Status nach Operation einer habituellen Schulterluxation im Jahre 1980) bedingte am 3. Oktober 1995 einen chirurgischen Eingriff, welcher gemäss Beurteilung des behandelnden Dr. med. T._, Co-Chefarzt, Spital Z._ (Berichte vom 21. September und 28. Dezember 1995) komplikationslos verlief. Entsprechend der im Bericht vom 28. Dezember 1995 gemachten Erwartung einer vollständigen Rehabilitation sprach sich der behandelnde Chirurg am 2. April 1996 dafür aus, V._ sei mit Blick auf die operierte Schulter hinsichtlich einer körperlich nicht schweren Tätigkeit zu 100 % arbeitsfähig. Nachdem sich V._ am 14. September 1995 wegen des Schulterleidens erneut bei der Invalidenversicherung zum Leistungsbezug angemeldet hatte, teilte ihm die IV-Stelle des Kantons Zürich im Vorbescheid vom 21. August 1996 mit, das Leistungsbegehren werde abgewiesen. Auf Grund der im Vorbescheidverfahren geltend gemachten psychischen Beschwerden holte die IV-Stelle einen Bericht des behandelnden Psychiaters Dr. med. R._, vom 12./13. Oktober 1996 ein und ordnete ein fachärztliches Gutachten des Psychiatrischen Zentrums C._ an, das am 4. August 1997 durch die Dres. med. N._ und O._ erstattet wurde. Gestützt auf die ergänzenden Abklärungen setzte die IV- Stelle den Invaliditätsgrad neu auf 100 % fest und sprach ab 1. Oktober 1996 eine ganze Invalidenrente zu (Verfügung vom 5. Novemer 1997). B.- Die hiegegen erhobene Beschwerde hiess das Sozialversicherungsgericht des Kantons Zürich in dem Sinne gut, als es die angefochtene Verwaltungsverfügung mit der Feststellung aufhob, der Anspruch auf eine ganze Rente bestünde bereits ab 1. Januar 1996 (Entscheid vom 20. Juli 1999). C.- V._ lässt Verwaltungsgerichtsbeschwerde führen und beantragen, es sei ihm bereits ab 1. März 1995 eine Rente zuzusprechen. Während die IV-Stelle auf eine Stellungnahme verzichtet, lässt sich das Bundesamt für Sozialversicherung nicht vernehmen. ', 'Ansprüche nach OHG, hat sich ergeben: A.- X._ wurde am 2. Juli 1994 anlässlich eines Tötungsdelikts im Frauenhaus Luzern durch Schüsse des Täters auf seine dort wohnende Ehefrau verletzt. X._ erlitt Verletzungen am Hals, am Oberschenkel und am Fuss und musste hospitalisiert werden. Der Täter hat sich unmittelbar nach der Tat selbst getötet. B.- Am 21. August 1995 stellte X._ ein Gesuch um Entschädigung und Genugtuung nach dem Bundesgesetz vom 4. Oktober 1991 über die Hilfe an Opfer von Straftaten (OHG; SR 312. 5). Darin machte sie einen Lohnausfall und eine Beeinträchtigung im Haushaltsbereich geltend und verlangte einen Vorschuss gemäss Art. 15 OHG. Am 26. August 1996 bewilligte das Kantonale Sozialamt einen Vorschuss in Höhe von Fr. 8\\'486.--. Es wies darauf hin, dass der Betrag ganz oder teilweise zurückzuerstatten sei, wenn das dem Vorschuss zugrunde liegende Entschädigungsgesuch ganz oder teilweise abgewiesen werde. Mit Verfügung vom 28. Mai 1998 sprach die Winterthur Versicherung als Unfallversicherer X._ rückwirkend während der Heilbehandlung eine Taggeldnachzahlung von Fr. 43\\'215. 80 sowie ab 1. Januar 1998 eine monatliche Invalidenrente von Fr. 787.-- (Invaliditätsgrad 20 %) und eine Integritätsentschädigung von 20 % (Fr. 19\\'440.--) zu. C.- Am 3. April 2000 wies das Kantonale Sozialamt den Entschädigungsanspruch vollumfänglich ab. Die Genug- tuung setzte es unter Berücksichtigung der Verzinsung auf Fr. 29\\'497.-- fest; davon seien die Integritätsentschädi- gung (Fr. 19\\'440.--) und der geleistete Vorschuss (Fr. 8\\'486.--) abzuziehen, so dass noch eine Differenz von Fr. 1\\'571.-- verbleibe. D.- Hiergegen erhob X._ Beschwerde an das Verwaltungsgericht des Kantons Luzern. Sie akzeptierte die Festsetzung der Genugtuung und den Abzug der Integritätsentschädigung, beanstandete aber den Abzug der Vorschussleistung von Fr. 8\\'486.--. Darüber hinaus focht sie die Abweisung ihres Entschädigungsgesuchs an. Das Verwaltungsgericht des Kantons Luzern wies die Beschwerde am 4. August 2000 ab. Das Verwaltungsgericht ging davon aus, der Haushaltschaden sei nach Art. 12 OHG jedenfalls dann nicht abzugelten, wenn das Opfer - wie die Beschwerdeführerin - als Alleinstehende einen Ein-Personen-Haushalt führe und ihr damit die Versorgereigenschaft fehle. Für den Erwerbsausfall komme eine Entschädigung nicht in Betracht, weil dieser Schaden vollumfänglich von der Unfallversicherung durch die Taggeldnachzahlung abgedeckt worden sei. Schliesslich sei auch der Abzug des Vorschusses von der Genugtuungssumme rechtlich nicht zu beanstanden. E.- Gegen das Urteil des Verwaltungsgerichts erhob X._ am 18. September 2000 Verwaltungsgerichtsbeschwerde ans Bundesgericht. Sie beantragt, das angefochtene Urteil sei aufzuheben und ihr sei unter dem Titel \"Genugtuung\" total Fr. 10\\'057.-- (statt lediglich Fr. 1\\'571.--) zu zahlen. Es sei festzustellen, dass der Vorschuss vom Fr. 8\\'486.-- nicht zurückbezahlt bzw. nicht verrechnet werden müsse. Ferner sei ihr für die Beeinträchtigung im Haushaltsbereich eine Entschädigung zuzusprechen. Zur Berechnung dieser Entschädigung sei die Sache an die Vorinstanz zurückzuweisen. F.- Das Kantonale Sozialamt und das Verwaltungsgericht des Kantons Luzern beantragen, die Beschwerde sei abzuweisen (soweit darauf einzutreten sei). Das Bundesamt für Justiz hat auf eine Vernehmlassung verzichtet. ', 'Art. 4 aBV (Strafverfahren wegen falschen Zeugnisses), hat sich ergeben: A.- M._ wird vorgeworfen, am 24. Juli 1996 in angetrunkenem Zustand ein Motorfahrzeug geführt zu haben. Die betreffende Fahrt begann auf dem Parkplatz des Restaurants \"Pflug\" in Othmarsingen, wo sich M._ mit G._ getroffen hatte, und endete in Villmergen, wo er sie wieder traf. G._ ist dieselbe Strecke in ihrem eigenen Auto gefahren. M._ wurde noch am selben Abend im Zusammenhang mit dem Vorwurf verhaftet, anschliessend an diese Fahrt bei einer Schlägerei ein Körperverletzungsdelikt begangen zu haben. Während der darauf folgenden Untersuchungshaft sagte er aus, ein Dritter habe seinen Wagen auf der fraglichen Fahrt gesteuert, weigerte sich jedoch, dessen Namen zu nennen. Nachdem M._ aus der Untersuchungshaft entlassen worden war, richtete der selbständige Taxifahrer O._ am 2. August 1996 ein Schreiben an das Strassenverkehrsamt, wonach er M._ auf der betreffenden Fahrt in dessen Wagen chauffiert habe. Dies bestätigte er am 10. Februar 1997 in einer Zeugeneinvernahme vor dem Bezirksamt Bremgarten. Daraufhin wurde gegen ihn eine Strafuntersuchung wegen falschen Zeugnisses eröffnet. O._ wurde vom Bezirksgericht Bremgarten am 2. April 1998 wegen falschen Zeugnisses zu einer bedingt vollziehbaren Gefängnisstrafe von 21 Tagen verurteilt. Eine hiergegen erhobene Berufung wies die 2. Strafkammer des Obergerichts des Kantons Aargau am 17. Mai 1999 ab. B.- O._ beantragt mit staatsrechtlicher Beschwerde vom 16. September 1999 die Aufhebung des obergerichtlichen Urteils und die Anordnung von zwei Beweiserhebungen. Er ruft Art. 4 aBV an und rügt, sein Anspruch auf rechtliches Gehör sowie der Grundsatz \"in dubio pro reo\" seien verletzt worden. Die Staatsanwaltschaft und das Obergericht des Kantons Aargau verzichten auf eine Vernehmlassung. C.- Mit Beschluss vom 5. Oktober 1999 hat die I. öffentlichrechtliche Abteilung des Bundesgerichts einem Gesuch von O._ um Wiederherstellung der Beschwerdefrist entsprochen. Die staatsrechtliche Beschwerde sowie das Gesuch um unentgeltliche Prozessführung wurden als rechtzeitig erfolgt entgegengenommen. ', \"Art. 5 Ziff. 1 EMRK (Haftentlassung), hat sich ergeben: A.- Die Bezirksanwaltschaft Bülach führt gegen S._ eine Strafuntersuchung, insbesondere wegen gewerbsmässiger Widerhandlung gegen das Betäubungsmittelgesetz und Geldwäscherei. Sie wirft ihm im Wesentlichen vor, zwischen April 1998 und anfangs 1999 dreimal in Guyana je 1,5 - 2 kg Kokain von sehr guter Qualität gekauft, in die Schweiz gebracht und anschliessend teilweise verkauft zu haben. Nach seiner vierten Einkaufstour in Guyana wurde S._ am 14. Januar 2000 bei seiner Einreise im Flughafen Kloten verhaftet, wobei 1,793 kg Kokain sichergestellt wurden. Insgesamt soll er durch den Verkauf von mindestens 3,6 kg Kokain einen Reingewinn von Fr. 115'000.-- erzielt haben. In ihrer Anklageschrift vom 31. Juli 2000 beantragt die Bezirksanwaltschaft, S._ mit 6 Jahren Zuchthaus zu bestrafen, unter Anordnung einer vollzugsbegleitenden ambulanten Massnahme im Sinne von Art. 44 Ziff. 1 Satz 2 und Ziff. 6 StGB. Am 15. August 2000 stellte S._ ein Gesuch um Entlassung aus dem vorzeitigen Strafvollzug. Er anerkannte zwar den Tatverdacht, macht aber geltend, dass keiner der besonderen Haftgründe mehr gegeben sei. Mit Verfügung vom 16. August 2000 beantragte die Bezirksanwaltschaft Bülach dem Haftrichter, die Untersuchungshaft aufrechtzuerhalten, da nach wie vor Fluchtgefahr bestehe, weil S._ eine langjährige Freiheitsstrafe drohe und er auch über einen Pass von Guyana, dem Heimatland seiner Ehefrau, verfüge. B.- Mit Entscheid vom 18. August 2000 wies der Haftrichter des Bezirksgerichts Bülach das Haftentlassungsgesuch ab. Er erwog, der Tatverdacht sei ohne weiteres gegeben und es bestehe Fluchtgefahr, insbesondere auch, weil S._ mit seiner Frau aus dem Drogenerlös in Guyana ein 4'000 m2 grosses Stück Landwirtschaftsland (Reisland) gekauft habe, sodass er versucht sein könnte, sich der drohenden mehrjährigen Strafe durch eine Flucht nach Guyana zu entziehen. Er habe bereits früher einmal Auswanderungspläne gehabt. Sein Gesundheitszustand sei kein Hinderungsgrund, da davon auszugehen sei, dass seine medizinische Betreuung auch in Guyana gewährleistet sei. Mit staatsrechtlicher Beschwerde vom 28. August 2000 wegen Verletzung von Art. 9, Art. 29 Abs. 2 und Art. 31 Abs. 1 BV sowie von Art. 5 Ziff. 1 EMRK beantragt S._, den Entscheid des Haftrichters vom 18. August 2000 aufzuheben und ihn aus der Haft zu entlassen. Ausserdem ersucht er um unentgeltliche Rechtspflege und Verbeiständung. C.- Bezirksanwaltschaft und Bezirksgericht Bülach verzichten auf Vernehmlassung. \", \"Mietvertrag, hat sich ergeben: A.- Die CT Condor Treuhand AG vermietete vom 1. April 1987 bis 31. Dezember 1993 Büroräume an der Hinterbergstrasse 26 in Cham an Andreas Rohrer. Mit Vertrag vom 4. November 1993 schloss sie mit Andreas Rohrer und Thomas Ulrich einen neuen Mietvertrag auf unbestimmte Zeit über Büroräumlichkeiten an der selben Adresse. Mietbeginn war der 1. Januar 1994; der Mietzins betrug Fr. 3'060.-- monatlich inklusive Nebenkosten. Am 17. Januar 1995 ersetzten die Parteien diesen Vertrag per 1. Februar 1995 durch einen neuen Mietvertrag, worin u.a. der monatliche Mietzins neu auf Fr. 2'800.-- zuzüglich Mehrwertsteuer festgesetzt wurde. Dieses Mietverhältnis wurde per 31. Juli 1997 aufgelöst. B.- Mit Klage vom 25. März 1998 beantragte die CT Condor Treuhand AG dem Kantonsgericht des Kantons Zug, Andreas Rohrer und Thomas Ulrich solidarisch zur Bezahlung von Mietzinsen im Betrag von Fr. 86'538.-- zuzüglich Verzugszinsen zu verurteilen. Das Kantonsgericht hiess die Klage mit Urteil vom 30. März 1999 im Umfang von Fr. 13'688. 55 nebst Zins zu 5 % seit 21. März 1998 gut. Beide Parteien reichten gegen dieses Urteil Berufung an das Obergericht ein; dieses wies die Berufung der Klägerin ab, hiess diejenige der Beklagten gut und wies die Klage vollumfänglich ab. C.- Gegen das Urteil des Obergerichts hat die Klägerin sowohl Berufung als auch staatsrechtliche Beschwerde eingereicht. Das Bundesgericht hat die Beschwerde mit Urteil vom heutigen Tag abgewiesen, soweit es darauf eintrat. Mit ihrer Berufung beantragt die Klägerin die Aufhebung des angefochtenen Urteils und die Gutheissung der Klage. Die Beklagten schliessen auf Abweisung der Berufung. \"], 'label': [0, 1, 0, 1, 0], 'language': ['de', 'de', 'de', 'de', 'de'], 'region': ['Zürich', 'Central Switzerland', 'Northwestern Switzerland', 'n/a', 'n/a'], 'canton': ['zh', 'lu', 'ag', 'n/a', 'n/a'], 'legal area': ['insurance law', 'public law', 'public law', 'public law', 'civil law'], 'source_language': ['n/a', 'n/a', 'n/a', 'n/a', 'n/a']} \n",
      " <class 'dict'>\n"
     ]
    }
   ],
   "source": [
    "dataset.set_format(\"pandas\")\n",
    "print(dataset[:5], \"\\n\", type(dataset[:]))\n",
    "\n",
    "dataset.reset_format()\n",
    "print(dataset[:5], \"\\n\", type(dataset[:]))"
   ]
  },
  {
   "cell_type": "markdown",
   "metadata": {},
   "source": [
    "## 4.Memory mapping & streaming"
   ]
  },
  {
   "cell_type": "markdown",
   "metadata": {},
   "source": [
    "#### Datasets use Arrow and Streaming to handle data at scale\n",
    "#### Arrow is designed for high-performance data processing and represents each table-like dataset with column based format, which groups the elements in the table in consecutive blocks of RAM and unlocks fast access and processing\n",
    "#### Streaming allows you to progressively download the raw data one element at a time, the result is a special object called IterableDataset\n",
    "<div><img src=\"image/dataset5.png\" width=800></div>"
   ]
  },
  {
   "cell_type": "markdown",
   "metadata": {},
   "source": [
    "#### The IterableDataset can be obtained by setting ***streaming=True*** when in the ***load_dataset()*** function. It is an iterable, can be indexed but can be iterated using the iter() and next() method"
   ]
  },
  {
   "cell_type": "code",
   "execution_count": 73,
   "metadata": {},
   "outputs": [
    {
     "name": "stdout",
     "output_type": "stream",
     "text": [
      "<class 'datasets.iterable_dataset.IterableDataset'>\n",
      "{'id': 2, 'year': 2000, 'text': 'A.- Der 1955 geborene V._ war seit 1. September 1986 hauptberuflich als technischer Kaufmann bei der Firma A._ AG tätig und im Rahmen einer Nebenbeschäftigung (Nachtarbeit) ab Mai 1990 bei einem Bewachungsdienst angestellt gewesen, als er am 10. Februar 1991 in Norwegen beim Hundeschlittenfahren eine Muskelruptur im Bereich des linken Oberschenkels erlitt. Die Verletzung wurde am 26. Februar 1991 mittels Muskelnaht operativ versorgt (Bericht des Dr. med. B._, Oberarzt, Chirurgische Klinik X._ vom 28. Februar 1991). Beweglichkeits- und Sensibilitätsausfälle führten zum Beizug des Dr. med. W._, Spezialarzt FMH Neurologie, welcher eine Ischiadicusparese links, wahrscheinlich traumatisch bedingt, diagnostizierte (Bericht vom 5. März 1991). Dr. med. S._, Spezialarzt für Chirurgie FMH, Chefarzt Spital X._ (Bericht vom 28. Oktober 1992) bestätigte, dass es bei der Operation vom 10. Februar 1991 zu einer Druckschädigung des Ischiasnerv gekommen sei. Bei Versorgung mit Schiene und Stützschuh sei V._ indes schmerz- und hinkfrei gehfähig; die Arbeitsfähigkeit sei weder hinsichtlich der Tätigkeit als Kaufmann noch mit Bezug auf die nunmehr aufgegebene Nebenbeschäftigung als Wächter eingeschränkt. Mit unangefochten in Rechtskraft erwachsener Verfügung vom 16. Dezember 1993 lehnte die IV-Stelle des Kantons Zürich das am 2. September 1992 gestellte Rentenbegehren nach Abklärungen in medizinischer und beruflich-erwerblicher Hinsicht wegen eines zu geringen Invaliditätsgrades (von 33,5 %) ab. V._ geht seit der Beendigung des Arbeitsverhältnisses mit der Firma A._ AG am 31. Juli 1993 mit Ausnahme der kurzzeitigen Anstellung (vom 1. bis 28. Dezember 1994) als Disponent bei der Firma I._ AG keiner Erwerbstätigkeit mehr nach. Auf Grund des zuletzt geschlossenen Arbeitsvertrages war er bei der Versicherungsgesellschaft Y._ obligatorisch gegen die Folgen von Berufs- und Nichtberufsunfällen versichert, als ihm am 15. Dezember 1994 eine Projektionsleinwand auf die rechte Schulter fiel. Die dabei erlittene Rotatorenmanschettenverletzung (bei Status nach Operation einer habituellen Schulterluxation im Jahre 1980) bedingte am 3. Oktober 1995 einen chirurgischen Eingriff, welcher gemäss Beurteilung des behandelnden Dr. med. T._, Co-Chefarzt, Spital Z._ (Berichte vom 21. September und 28. Dezember 1995) komplikationslos verlief. Entsprechend der im Bericht vom 28. Dezember 1995 gemachten Erwartung einer vollständigen Rehabilitation sprach sich der behandelnde Chirurg am 2. April 1996 dafür aus, V._ sei mit Blick auf die operierte Schulter hinsichtlich einer körperlich nicht schweren Tätigkeit zu 100 % arbeitsfähig. Nachdem sich V._ am 14. September 1995 wegen des Schulterleidens erneut bei der Invalidenversicherung zum Leistungsbezug angemeldet hatte, teilte ihm die IV-Stelle des Kantons Zürich im Vorbescheid vom 21. August 1996 mit, das Leistungsbegehren werde abgewiesen. Auf Grund der im Vorbescheidverfahren geltend gemachten psychischen Beschwerden holte die IV-Stelle einen Bericht des behandelnden Psychiaters Dr. med. R._, vom 12./13. Oktober 1996 ein und ordnete ein fachärztliches Gutachten des Psychiatrischen Zentrums C._ an, das am 4. August 1997 durch die Dres. med. N._ und O._ erstattet wurde. Gestützt auf die ergänzenden Abklärungen setzte die IV- Stelle den Invaliditätsgrad neu auf 100 % fest und sprach ab 1. Oktober 1996 eine ganze Invalidenrente zu (Verfügung vom 5. Novemer 1997). B.- Die hiegegen erhobene Beschwerde hiess das Sozialversicherungsgericht des Kantons Zürich in dem Sinne gut, als es die angefochtene Verwaltungsverfügung mit der Feststellung aufhob, der Anspruch auf eine ganze Rente bestünde bereits ab 1. Januar 1996 (Entscheid vom 20. Juli 1999). C.- V._ lässt Verwaltungsgerichtsbeschwerde führen und beantragen, es sei ihm bereits ab 1. März 1995 eine Rente zuzusprechen. Während die IV-Stelle auf eine Stellungnahme verzichtet, lässt sich das Bundesamt für Sozialversicherung nicht vernehmen. ', 'label': 0, 'language': 'de', 'region': 'Zürich', 'canton': 'zh', 'legal area': 'insurance law', 'source_language': 'n/a'}\n"
     ]
    }
   ],
   "source": [
    "dataset_streamed = load_dataset(\"swiss_judgment_prediction\", \"all\", split=\"train\", streaming=True)\n",
    "print(type(dataset_streamed))\n",
    "print(next(iter(dataset_streamed)))"
   ]
  },
  {
   "cell_type": "markdown",
   "metadata": {},
   "source": [
    "#### As it can not be indexed the ***Dataset.select()*** can not be used for IterableDataset, we use ***IterableDataset.take()*** and ***IterableDataset.skip()***"
   ]
  },
  {
   "cell_type": "code",
   "execution_count": 78,
   "metadata": {},
   "outputs": [
    {
     "name": "stdout",
     "output_type": "stream",
     "text": [
      "training dataset length: 58709 \n",
      "validation dataset length: 1000\n"
     ]
    }
   ],
   "source": [
    "# Skip the first 1000 examples and include the rest in the training set\n",
    "train_dataset = dataset_streamed.skip(1000)\n",
    "# Take the first 1000 examples for the validation\n",
    "validation_dataset = dataset_streamed.take(1000)\n",
    "\n",
    "print(\"training dataset length:\", len(list(train_dataset)), \"\\nvalidation dataset length:\", len(list(validation_dataset)))"
   ]
  }
 ],
 "metadata": {
  "kernelspec": {
   "display_name": "python3.10",
   "language": "python",
   "name": "python3"
  },
  "language_info": {
   "codemirror_mode": {
    "name": "ipython",
    "version": 3
   },
   "file_extension": ".py",
   "mimetype": "text/x-python",
   "name": "python",
   "nbconvert_exporter": "python",
   "pygments_lexer": "ipython3",
   "version": "3.10.14"
  }
 },
 "nbformat": 4,
 "nbformat_minor": 2
}
